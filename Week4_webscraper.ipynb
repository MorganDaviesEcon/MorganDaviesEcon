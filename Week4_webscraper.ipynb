{
  "nbformat": 4,
  "nbformat_minor": 0,
  "metadata": {
    "colab": {
      "provenance": [],
      "authorship_tag": "ABX9TyO8/PVJT1L8RjJuCvAuADCn",
      "include_colab_link": true
    },
    "kernelspec": {
      "name": "python3",
      "display_name": "Python 3"
    },
    "language_info": {
      "name": "python"
    }
  },
  "cells": [
    {
      "cell_type": "markdown",
      "metadata": {
        "id": "view-in-github",
        "colab_type": "text"
      },
      "source": [
        "<a href=\"https://colab.research.google.com/github/MorganDaviesEcon/MorganDaviesEcon.github.io/blob/main/Week4_webscraper.ipynb\" target=\"_parent\"><img src=\"https://colab.research.google.com/assets/colab-badge.svg\" alt=\"Open In Colab\"/></a>"
      ]
    },
    {
      "cell_type": "code",
      "execution_count": 1,
      "metadata": {
        "id": "0akQ2u-PhwmT"
      },
      "outputs": [],
      "source": [
        "import requests, pandas as pd"
      ]
    },
    {
      "cell_type": "code",
      "source": [
        "tables=pd.read_html('https://en.wikipedia.org/wiki/List_of_Formula_One_Grand_Prix_winners#:~:text=Lewis%20Hamilton%20holds%20the%20record,is%20third%20with%2053%20victories.')"
      ],
      "metadata": {
        "id": "yrbuFHUeh5b4"
      },
      "execution_count": 2,
      "outputs": []
    },
    {
      "cell_type": "code",
      "source": [
        "df = tables[2]"
      ],
      "metadata": {
        "id": "bDKsEB5DisDm"
      },
      "execution_count": 3,
      "outputs": []
    },
    {
      "cell_type": "code",
      "source": [
        "df.columns"
      ],
      "metadata": {
        "colab": {
          "base_uri": "https://localhost:8080/"
        },
        "id": "R5-qNmMCjg7F",
        "outputId": "3739db08-8979-4723-d5df-35db9daf9235"
      },
      "execution_count": 4,
      "outputs": [
        {
          "output_type": "execute_result",
          "data": {
            "text/plain": [
              "Index(['Rank', 'Country', 'Driver', 'Wins', 'Seasons active', 'First win',\n",
              "       'Last win'],\n",
              "      dtype='object')"
            ]
          },
          "metadata": {},
          "execution_count": 4
        }
      ]
    },
    {
      "cell_type": "code",
      "source": [
        "df"
      ],
      "metadata": {
        "colab": {
          "base_uri": "https://localhost:8080/",
          "height": 424
        },
        "id": "vUIJWCycod7_",
        "outputId": "b7b537d9-6b19-414b-ca30-e42e129bc94c"
      },
      "execution_count": 5,
      "outputs": [
        {
          "output_type": "execute_result",
          "data": {
            "text/plain": [
              "     Rank         Country              Driver  Wins        Seasons active  \\\n",
              "0       1  United Kingdom      Lewis Hamilton   103                 2007–   \n",
              "1       2         Germany  Michael Schumacher    91  1991–2006, 2010–2012   \n",
              "2       3         Germany    Sebastian Vettel    53             2007–2022   \n",
              "3       4          France         Alain Prost    51       1980–1991, 1993   \n",
              "4       5          Brazil        Ayrton Senna    41             1984–1994   \n",
              "..    ...             ...                 ...   ...                   ...   \n",
              "108    78       Venezuela    Pastor Maldonado     1             2011–2015   \n",
              "109    78          France       Pierre Gasly*     1                 2017–   \n",
              "110    78          France       Esteban Ocon*     1      2016–2018, 2020–   \n",
              "111    78           Spain   Carlos Sainz Jr.*     1                 2015–   \n",
              "112    78  United Kingdom     George Russell*     1                 2019–   \n",
              "\n",
              "                      First win                       Last win  \n",
              "0      2007 Canadian Grand Prix  2021 Saudi Arabian Grand Prix  \n",
              "1       1992 Belgian Grand Prix        2006 Chinese Grand Prix  \n",
              "2       2008 Italian Grand Prix      2019 Singapore Grand Prix  \n",
              "3        1981 French Grand Prix         1993 German Grand Prix  \n",
              "4    1985 Portuguese Grand Prix     1993 Australian Grand Prix  \n",
              "..                          ...                            ...  \n",
              "108     2012 Spanish Grand Prix        2012 Spanish Grand Prix  \n",
              "109     2020 Italian Grand Prix        2020 Italian Grand Prix  \n",
              "110   2021 Hungarian Grand Prix      2021 Hungarian Grand Prix  \n",
              "111     2022 British Grand Prix        2022 British Grand Prix  \n",
              "112   2022 São Paulo Grand Prix      2022 São Paulo Grand Prix  \n",
              "\n",
              "[113 rows x 7 columns]"
            ],
            "text/html": [
              "\n",
              "  <div id=\"df-c5dae592-7903-4a5a-987d-2cf20ebc1de0\">\n",
              "    <div class=\"colab-df-container\">\n",
              "      <div>\n",
              "<style scoped>\n",
              "    .dataframe tbody tr th:only-of-type {\n",
              "        vertical-align: middle;\n",
              "    }\n",
              "\n",
              "    .dataframe tbody tr th {\n",
              "        vertical-align: top;\n",
              "    }\n",
              "\n",
              "    .dataframe thead th {\n",
              "        text-align: right;\n",
              "    }\n",
              "</style>\n",
              "<table border=\"1\" class=\"dataframe\">\n",
              "  <thead>\n",
              "    <tr style=\"text-align: right;\">\n",
              "      <th></th>\n",
              "      <th>Rank</th>\n",
              "      <th>Country</th>\n",
              "      <th>Driver</th>\n",
              "      <th>Wins</th>\n",
              "      <th>Seasons active</th>\n",
              "      <th>First win</th>\n",
              "      <th>Last win</th>\n",
              "    </tr>\n",
              "  </thead>\n",
              "  <tbody>\n",
              "    <tr>\n",
              "      <th>0</th>\n",
              "      <td>1</td>\n",
              "      <td>United Kingdom</td>\n",
              "      <td>Lewis Hamilton</td>\n",
              "      <td>103</td>\n",
              "      <td>2007–</td>\n",
              "      <td>2007 Canadian Grand Prix</td>\n",
              "      <td>2021 Saudi Arabian Grand Prix</td>\n",
              "    </tr>\n",
              "    <tr>\n",
              "      <th>1</th>\n",
              "      <td>2</td>\n",
              "      <td>Germany</td>\n",
              "      <td>Michael Schumacher</td>\n",
              "      <td>91</td>\n",
              "      <td>1991–2006, 2010–2012</td>\n",
              "      <td>1992 Belgian Grand Prix</td>\n",
              "      <td>2006 Chinese Grand Prix</td>\n",
              "    </tr>\n",
              "    <tr>\n",
              "      <th>2</th>\n",
              "      <td>3</td>\n",
              "      <td>Germany</td>\n",
              "      <td>Sebastian Vettel</td>\n",
              "      <td>53</td>\n",
              "      <td>2007–2022</td>\n",
              "      <td>2008 Italian Grand Prix</td>\n",
              "      <td>2019 Singapore Grand Prix</td>\n",
              "    </tr>\n",
              "    <tr>\n",
              "      <th>3</th>\n",
              "      <td>4</td>\n",
              "      <td>France</td>\n",
              "      <td>Alain Prost</td>\n",
              "      <td>51</td>\n",
              "      <td>1980–1991, 1993</td>\n",
              "      <td>1981 French Grand Prix</td>\n",
              "      <td>1993 German Grand Prix</td>\n",
              "    </tr>\n",
              "    <tr>\n",
              "      <th>4</th>\n",
              "      <td>5</td>\n",
              "      <td>Brazil</td>\n",
              "      <td>Ayrton Senna</td>\n",
              "      <td>41</td>\n",
              "      <td>1984–1994</td>\n",
              "      <td>1985 Portuguese Grand Prix</td>\n",
              "      <td>1993 Australian Grand Prix</td>\n",
              "    </tr>\n",
              "    <tr>\n",
              "      <th>...</th>\n",
              "      <td>...</td>\n",
              "      <td>...</td>\n",
              "      <td>...</td>\n",
              "      <td>...</td>\n",
              "      <td>...</td>\n",
              "      <td>...</td>\n",
              "      <td>...</td>\n",
              "    </tr>\n",
              "    <tr>\n",
              "      <th>108</th>\n",
              "      <td>78</td>\n",
              "      <td>Venezuela</td>\n",
              "      <td>Pastor Maldonado</td>\n",
              "      <td>1</td>\n",
              "      <td>2011–2015</td>\n",
              "      <td>2012 Spanish Grand Prix</td>\n",
              "      <td>2012 Spanish Grand Prix</td>\n",
              "    </tr>\n",
              "    <tr>\n",
              "      <th>109</th>\n",
              "      <td>78</td>\n",
              "      <td>France</td>\n",
              "      <td>Pierre Gasly*</td>\n",
              "      <td>1</td>\n",
              "      <td>2017–</td>\n",
              "      <td>2020 Italian Grand Prix</td>\n",
              "      <td>2020 Italian Grand Prix</td>\n",
              "    </tr>\n",
              "    <tr>\n",
              "      <th>110</th>\n",
              "      <td>78</td>\n",
              "      <td>France</td>\n",
              "      <td>Esteban Ocon*</td>\n",
              "      <td>1</td>\n",
              "      <td>2016–2018, 2020–</td>\n",
              "      <td>2021 Hungarian Grand Prix</td>\n",
              "      <td>2021 Hungarian Grand Prix</td>\n",
              "    </tr>\n",
              "    <tr>\n",
              "      <th>111</th>\n",
              "      <td>78</td>\n",
              "      <td>Spain</td>\n",
              "      <td>Carlos Sainz Jr.*</td>\n",
              "      <td>1</td>\n",
              "      <td>2015–</td>\n",
              "      <td>2022 British Grand Prix</td>\n",
              "      <td>2022 British Grand Prix</td>\n",
              "    </tr>\n",
              "    <tr>\n",
              "      <th>112</th>\n",
              "      <td>78</td>\n",
              "      <td>United Kingdom</td>\n",
              "      <td>George Russell*</td>\n",
              "      <td>1</td>\n",
              "      <td>2019–</td>\n",
              "      <td>2022 São Paulo Grand Prix</td>\n",
              "      <td>2022 São Paulo Grand Prix</td>\n",
              "    </tr>\n",
              "  </tbody>\n",
              "</table>\n",
              "<p>113 rows × 7 columns</p>\n",
              "</div>\n",
              "      <button class=\"colab-df-convert\" onclick=\"convertToInteractive('df-c5dae592-7903-4a5a-987d-2cf20ebc1de0')\"\n",
              "              title=\"Convert this dataframe to an interactive table.\"\n",
              "              style=\"display:none;\">\n",
              "        \n",
              "  <svg xmlns=\"http://www.w3.org/2000/svg\" height=\"24px\"viewBox=\"0 0 24 24\"\n",
              "       width=\"24px\">\n",
              "    <path d=\"M0 0h24v24H0V0z\" fill=\"none\"/>\n",
              "    <path d=\"M18.56 5.44l.94 2.06.94-2.06 2.06-.94-2.06-.94-.94-2.06-.94 2.06-2.06.94zm-11 1L8.5 8.5l.94-2.06 2.06-.94-2.06-.94L8.5 2.5l-.94 2.06-2.06.94zm10 10l.94 2.06.94-2.06 2.06-.94-2.06-.94-.94-2.06-.94 2.06-2.06.94z\"/><path d=\"M17.41 7.96l-1.37-1.37c-.4-.4-.92-.59-1.43-.59-.52 0-1.04.2-1.43.59L10.3 9.45l-7.72 7.72c-.78.78-.78 2.05 0 2.83L4 21.41c.39.39.9.59 1.41.59.51 0 1.02-.2 1.41-.59l7.78-7.78 2.81-2.81c.8-.78.8-2.07 0-2.86zM5.41 20L4 18.59l7.72-7.72 1.47 1.35L5.41 20z\"/>\n",
              "  </svg>\n",
              "      </button>\n",
              "      \n",
              "  <style>\n",
              "    .colab-df-container {\n",
              "      display:flex;\n",
              "      flex-wrap:wrap;\n",
              "      gap: 12px;\n",
              "    }\n",
              "\n",
              "    .colab-df-convert {\n",
              "      background-color: #E8F0FE;\n",
              "      border: none;\n",
              "      border-radius: 50%;\n",
              "      cursor: pointer;\n",
              "      display: none;\n",
              "      fill: #1967D2;\n",
              "      height: 32px;\n",
              "      padding: 0 0 0 0;\n",
              "      width: 32px;\n",
              "    }\n",
              "\n",
              "    .colab-df-convert:hover {\n",
              "      background-color: #E2EBFA;\n",
              "      box-shadow: 0px 1px 2px rgba(60, 64, 67, 0.3), 0px 1px 3px 1px rgba(60, 64, 67, 0.15);\n",
              "      fill: #174EA6;\n",
              "    }\n",
              "\n",
              "    [theme=dark] .colab-df-convert {\n",
              "      background-color: #3B4455;\n",
              "      fill: #D2E3FC;\n",
              "    }\n",
              "\n",
              "    [theme=dark] .colab-df-convert:hover {\n",
              "      background-color: #434B5C;\n",
              "      box-shadow: 0px 1px 3px 1px rgba(0, 0, 0, 0.15);\n",
              "      filter: drop-shadow(0px 1px 2px rgba(0, 0, 0, 0.3));\n",
              "      fill: #FFFFFF;\n",
              "    }\n",
              "  </style>\n",
              "\n",
              "      <script>\n",
              "        const buttonEl =\n",
              "          document.querySelector('#df-c5dae592-7903-4a5a-987d-2cf20ebc1de0 button.colab-df-convert');\n",
              "        buttonEl.style.display =\n",
              "          google.colab.kernel.accessAllowed ? 'block' : 'none';\n",
              "\n",
              "        async function convertToInteractive(key) {\n",
              "          const element = document.querySelector('#df-c5dae592-7903-4a5a-987d-2cf20ebc1de0');\n",
              "          const dataTable =\n",
              "            await google.colab.kernel.invokeFunction('convertToInteractive',\n",
              "                                                     [key], {});\n",
              "          if (!dataTable) return;\n",
              "\n",
              "          const docLinkHtml = 'Like what you see? Visit the ' +\n",
              "            '<a target=\"_blank\" href=https://colab.research.google.com/notebooks/data_table.ipynb>data table notebook</a>'\n",
              "            + ' to learn more about interactive tables.';\n",
              "          element.innerHTML = '';\n",
              "          dataTable['output_type'] = 'display_data';\n",
              "          await google.colab.output.renderOutput(dataTable, element);\n",
              "          const docLink = document.createElement('div');\n",
              "          docLink.innerHTML = docLinkHtml;\n",
              "          element.appendChild(docLink);\n",
              "        }\n",
              "      </script>\n",
              "    </div>\n",
              "  </div>\n",
              "  "
            ]
          },
          "metadata": {},
          "execution_count": 5
        }
      ]
    },
    {
      "cell_type": "code",
      "source": [
        "df2 = df.head(10)"
      ],
      "metadata": {
        "id": "umGxTjHEofwM"
      },
      "execution_count": 6,
      "outputs": []
    },
    {
      "cell_type": "code",
      "source": [
        "df2.to_csv('F1_top10.csv')"
      ],
      "metadata": {
        "id": "qfxg2Cslo7XW"
      },
      "execution_count": 7,
      "outputs": []
    }
  ]
}